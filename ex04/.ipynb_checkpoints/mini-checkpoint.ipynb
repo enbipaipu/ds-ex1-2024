{
 "cells": [
  {
   "cell_type": "code",
   "execution_count": 2,
   "id": "ad43798c-912e-42f7-9c9a-0739bf6ff2f0",
   "metadata": {},
   "outputs": [],
   "source": [
    "import scipy.stats as ss"
   ]
  },
  {
   "cell_type": "code",
   "execution_count": 2,
   "id": "e5a4e299-cb25-4399-98a5-1b232f43671a",
   "metadata": {},
   "outputs": [
    {
     "name": "stdout",
     "output_type": "stream",
     "text": [
      "0.10081881344492458\n"
     ]
    }
   ],
   "source": [
    "print(ss.poisson.pmf(k=5, mu=3))"
   ]
  },
  {
   "cell_type": "code",
   "execution_count": null,
   "id": "c236a70b-d9a0-40b6-9e04-aace7d8ac325",
   "metadata": {},
   "outputs": [],
   "source": []
  }
 ],
 "metadata": {
  "kernelspec": {
   "display_name": "Python 3 (ipykernel)",
   "language": "python",
   "name": "python3"
  },
  "language_info": {
   "codemirror_mode": {
    "name": "ipython",
    "version": 3
   },
   "file_extension": ".py",
   "mimetype": "text/x-python",
   "name": "python",
   "nbconvert_exporter": "python",
   "pygments_lexer": "ipython3",
   "version": "3.9.15"
  }
 },
 "nbformat": 4,
 "nbformat_minor": 5
}
