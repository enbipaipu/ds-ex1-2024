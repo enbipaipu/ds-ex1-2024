{
 "cells": [
  {
   "cell_type": "code",
   "execution_count": 8,
   "id": "b02224fc-b79e-4426-9e13-c43707f90099",
   "metadata": {},
   "outputs": [],
   "source": [
    "import numpy as np"
   ]
  },
  {
   "cell_type": "code",
   "execution_count": 1,
   "id": "0d6b0fd6-3ee2-4672-8847-2e7953506c02",
   "metadata": {},
   "outputs": [],
   "source": [
    "def Expect(dist):\n",
    "    e = sum([x*p for x,p in dist.items()])\n",
    "    return e"
   ]
  },
  {
   "cell_type": "code",
   "execution_count": 2,
   "id": "22cb7d61-748c-4cd6-a078-ba20ccd37b03",
   "metadata": {},
   "outputs": [
    {
     "name": "stdout",
     "output_type": "stream",
     "text": [
      "{0: 0.125, 1: 0.375, 2: 0.375, 3: 0.125}\n"
     ]
    }
   ],
   "source": [
    "dist = {0:1/8, 1:3/8, 2:3/8, 3:1/8}\n",
    "print(dist)"
   ]
  },
  {
   "cell_type": "code",
   "execution_count": 3,
   "id": "f3370b19-7c53-428a-9a4f-306ba1141853",
   "metadata": {},
   "outputs": [
    {
     "name": "stdout",
     "output_type": "stream",
     "text": [
      "1.5\n"
     ]
    }
   ],
   "source": [
    "e = Expect(dist)\n",
    "print(e)"
   ]
  },
  {
   "cell_type": "code",
   "execution_count": 4,
   "id": "1d5154e1-a8ef-4590-b0b5-9323a2067777",
   "metadata": {},
   "outputs": [],
   "source": [
    "def Variance(dist):\n",
    "    e = Expect(dist)\n",
    "    var = sum([(x-e)**2 * p for x,p in dist.items()])\n",
    "    return var"
   ]
  },
  {
   "cell_type": "code",
   "execution_count": 5,
   "id": "4751da69-9751-4cf7-955c-aa2ef57817a9",
   "metadata": {},
   "outputs": [
    {
     "name": "stdout",
     "output_type": "stream",
     "text": [
      "0.75\n"
     ]
    }
   ],
   "source": [
    "print(Variance(dist))"
   ]
  },
  {
   "cell_type": "code",
   "execution_count": 9,
   "id": "4a946635-b352-4553-b84f-8dee7e59cbff",
   "metadata": {},
   "outputs": [],
   "source": [
    "def Std(dist):\n",
    "    std = np.sqrt(Variance(dist))\n",
    "    return std"
   ]
  },
  {
   "cell_type": "code",
   "execution_count": 10,
   "id": "992ecc7e-abc3-4652-8213-97e4b423f52c",
   "metadata": {},
   "outputs": [
    {
     "name": "stdout",
     "output_type": "stream",
     "text": [
      "0.8660254037844386\n"
     ]
    }
   ],
   "source": [
    "print(Std(dist))"
   ]
  },
  {
   "cell_type": "code",
   "execution_count": null,
   "id": "877a1b9a-e516-44e2-b468-18ba6c824df7",
   "metadata": {},
   "outputs": [],
   "source": []
  }
 ],
 "metadata": {
  "kernelspec": {
   "display_name": "Python 3 (ipykernel)",
   "language": "python",
   "name": "python3"
  },
  "language_info": {
   "codemirror_mode": {
    "name": "ipython",
    "version": 3
   },
   "file_extension": ".py",
   "mimetype": "text/x-python",
   "name": "python",
   "nbconvert_exporter": "python",
   "pygments_lexer": "ipython3",
   "version": "3.9.15"
  }
 },
 "nbformat": 4,
 "nbformat_minor": 5
}
