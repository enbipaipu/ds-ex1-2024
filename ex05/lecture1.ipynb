{
 "cells": [
  {
   "cell_type": "code",
   "execution_count": 2,
   "id": "e3c609ad-9971-4539-81c1-f59a42533db5",
   "metadata": {},
   "outputs": [],
   "source": [
    "import scipy.stats as ss"
   ]
  },
  {
   "cell_type": "code",
   "execution_count": 4,
   "id": "bcedc6f2-502b-45ad-a886-8ceabd51e075",
   "metadata": {},
   "outputs": [
    {
     "name": "stdout",
     "output_type": "stream",
     "text": [
      "0.8399948480369128\n"
     ]
    }
   ],
   "source": [
    "print(ss.norm.cdf(x=25, loc=10, scale=5)-ss.norm.cdf(x=5, loc=10, scale=5))"
   ]
  },
  {
   "cell_type": "code",
   "execution_count": 5,
   "id": "49b414b7-d764-4ff0-ad22-2f60d9c1a6b8",
   "metadata": {},
   "outputs": [
    {
     "name": "stdout",
     "output_type": "stream",
     "text": [
      "0.7745375447996848\n"
     ]
    }
   ],
   "source": [
    "print(ss.norm.cdf(x=70, loc=60, scale=10)-ss.norm.cdf(x=45, loc=60, scale=10))"
   ]
  },
  {
   "cell_type": "code",
   "execution_count": 10,
   "id": "08d9bc42-a143-4a71-ad53-94ee6a4140f0",
   "metadata": {},
   "outputs": [
    {
     "name": "stdout",
     "output_type": "stream",
     "text": [
      "79.22327348316901\n"
     ]
    }
   ],
   "source": [
    "print(ss.norm.ppf(q=0.9, loc=60, scale=15))"
   ]
  },
  {
   "cell_type": "code",
   "execution_count": 12,
   "id": "7a5a123c-dcac-4066-af20-dc006130e1b7",
   "metadata": {},
   "outputs": [
    {
     "name": "stdout",
     "output_type": "stream",
     "text": [
      "153.6724487509804\n"
     ]
    }
   ],
   "source": [
    "print(ss.norm.ppf(q = 0.75, loc=150.3, scale=5))"
   ]
  },
  {
   "cell_type": "code",
   "execution_count": 11,
   "id": "fc2891fb-0145-43c1-9936-2e6c601ed0be",
   "metadata": {},
   "outputs": [
    {
     "name": "stdout",
     "output_type": "stream",
     "text": [
      "158.52426813475736\n"
     ]
    }
   ],
   "source": [
    "print(ss.norm.ppf(q = 0.95, loc=150.3, scale=5))"
   ]
  },
  {
   "cell_type": "code",
   "execution_count": 16,
   "id": "a0b527af-8159-4db7-b5fa-b40668318ed0",
   "metadata": {},
   "outputs": [
    {
     "data": {
      "text/plain": [
       "0.18887560283756177"
      ]
     },
     "execution_count": 16,
     "metadata": {},
     "output_type": "execute_result"
    }
   ],
   "source": [
    "1-ss.expon.cdf(x=50,scale=30)"
   ]
  },
  {
   "cell_type": "code",
   "execution_count": null,
   "id": "ec386ebf-3311-45b5-ae7e-040da4a1d947",
   "metadata": {},
   "outputs": [],
   "source": []
  }
 ],
 "metadata": {
  "kernelspec": {
   "display_name": "Python 3 (ipykernel)",
   "language": "python",
   "name": "python3"
  },
  "language_info": {
   "codemirror_mode": {
    "name": "ipython",
    "version": 3
   },
   "file_extension": ".py",
   "mimetype": "text/x-python",
   "name": "python",
   "nbconvert_exporter": "python",
   "pygments_lexer": "ipython3",
   "version": "3.9.15"
  }
 },
 "nbformat": 4,
 "nbformat_minor": 5
}
