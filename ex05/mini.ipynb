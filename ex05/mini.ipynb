{
 "cells": [
  {
   "cell_type": "code",
   "execution_count": 2,
   "id": "a2fbe099-ead5-41f2-9e90-6ec80f14bbb3",
   "metadata": {},
   "outputs": [
    {
     "name": "stdout",
     "output_type": "stream",
     "text": [
      "0.1974126513658474\n"
     ]
    }
   ],
   "source": [
    "import scipy.stats as ss\n",
    "print(ss.norm.cdf(x=3.5, loc=3, scale=2)-ss.norm.cdf(x=2.5, loc=3, scale=2))"
   ]
  },
  {
   "cell_type": "code",
   "execution_count": null,
   "id": "482797ee-e53e-4d17-8d86-7bf2c15043ae",
   "metadata": {},
   "outputs": [],
   "source": []
  }
 ],
 "metadata": {
  "kernelspec": {
   "display_name": "Python 3 (ipykernel)",
   "language": "python",
   "name": "python3"
  },
  "language_info": {
   "codemirror_mode": {
    "name": "ipython",
    "version": 3
   },
   "file_extension": ".py",
   "mimetype": "text/x-python",
   "name": "python",
   "nbconvert_exporter": "python",
   "pygments_lexer": "ipython3",
   "version": "3.9.15"
  }
 },
 "nbformat": 4,
 "nbformat_minor": 5
}
