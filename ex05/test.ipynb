{
 "cells": [
  {
   "cell_type": "code",
   "execution_count": 2,
   "id": "4b199b08-6d84-48af-a79f-a2b5f16528a5",
   "metadata": {},
   "outputs": [],
   "source": [
    "import scipy.stats as ss"
   ]
  },
  {
   "cell_type": "code",
   "execution_count": null,
   "id": "738bdda6-a6e3-4b26-8662-519a0572b222",
   "metadata": {},
   "outputs": [],
   "source": [
    "print(ss.hypergeom.pmf(k=3, M=2000, n=2000*0.075,N=10))"
   ]
  },
  {
   "cell_type": "code",
   "execution_count": null,
   "id": "5c34b360-a727-4c69-82b8-6e4ed96abb82",
   "metadata": {},
   "outputs": [],
   "source": []
  }
 ],
 "metadata": {
  "kernelspec": {
   "display_name": "Python 3 (ipykernel)",
   "language": "python",
   "name": "python3"
  },
  "language_info": {
   "codemirror_mode": {
    "name": "ipython",
    "version": 3
   },
   "file_extension": ".py",
   "mimetype": "text/x-python",
   "name": "python",
   "nbconvert_exporter": "python",
   "pygments_lexer": "ipython3",
   "version": "3.9.15"
  }
 },
 "nbformat": 4,
 "nbformat_minor": 5
}
